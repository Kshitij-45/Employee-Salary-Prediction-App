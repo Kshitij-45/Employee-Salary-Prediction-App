{
 "cells": [
  {
   "cell_type": "code",
   "execution_count": 1,
   "id": "ae0c190c-ff2a-4aa4-a7c5-10bb8296a19b",
   "metadata": {},
   "outputs": [],
   "source": [
    "import pandas as pd\n",
    "from sklearn.preprocessing import StandardScaler\n",
    "from sklearn.metrics import mean_absolute_error\n",
    "from sklearn.neighbors import KNeighborsClassifier\n",
    "from sklearn.metrics import accuracy_score\n",
    "from sklearn.linear_model import LogisticRegression\n",
    "from sklearn.neural_network import MLPClassifier\n",
    "from sklearn.svm import SVC\n",
    "from sklearn.pipeline import Pipeline\n",
    "from sklearn.ensemble import RandomForestClassifier\n",
    "from xgboost import XGBClassifier\n",
    "from sklearn.decomposition import PCA"
   ]
  },
  {
   "cell_type": "code",
   "execution_count": 2,
   "id": "71651d43-3f42-454e-8172-cb8fd380b398",
   "metadata": {},
   "outputs": [],
   "source": [
    "data=pd.read_csv(r'C:\\Users\\Kshitij\\Downloads\\adult 3.csv')"
   ]
  },
  {
   "cell_type": "code",
   "execution_count": 3,
   "id": "190b9cd4-a6c9-4e08-8560-ece83f9808ee",
   "metadata": {},
   "outputs": [
    {
     "data": {
      "text/plain": [
       "Index(['age', 'workclass', 'fnlwgt', 'education', 'educational-num',\n",
       "       'marital-status', 'occupation', 'relationship', 'race', 'gender',\n",
       "       'capital-gain', 'capital-loss', 'hours-per-week', 'native-country',\n",
       "       'income'],\n",
       "      dtype='object')"
      ]
     },
     "execution_count": 3,
     "metadata": {},
     "output_type": "execute_result"
    }
   ],
   "source": [
    "data.columns"
   ]
  },
  {
   "cell_type": "code",
   "execution_count": 4,
   "id": "7f7db5ae-558a-482a-9233-62e8a295b493",
   "metadata": {},
   "outputs": [
    {
     "data": {
      "text/plain": [
       "age                0\n",
       "workclass          0\n",
       "fnlwgt             0\n",
       "education          0\n",
       "educational-num    0\n",
       "marital-status     0\n",
       "occupation         0\n",
       "relationship       0\n",
       "race               0\n",
       "gender             0\n",
       "capital-gain       0\n",
       "capital-loss       0\n",
       "hours-per-week     0\n",
       "native-country     0\n",
       "income             0\n",
       "dtype: int64"
      ]
     },
     "execution_count": 4,
     "metadata": {},
     "output_type": "execute_result"
    }
   ],
   "source": [
    "data.isnull().sum()"
   ]
  },
  {
   "cell_type": "code",
   "execution_count": 5,
   "id": "601bc439-8c94-4d2e-994d-ac81beaca340",
   "metadata": {},
   "outputs": [
    {
     "name": "stdout",
     "output_type": "stream",
     "text": [
      "workclass\n",
      "Private             33906\n",
      "Self-emp-not-inc     3862\n",
      "Local-gov            3136\n",
      "?                    2799\n",
      "State-gov            1981\n",
      "Self-emp-inc         1695\n",
      "Federal-gov          1432\n",
      "Without-pay            21\n",
      "Never-worked           10\n",
      "Name: count, dtype: int64\n"
     ]
    }
   ],
   "source": [
    "print(data.workclass.value_counts())"
   ]
  },
  {
   "cell_type": "code",
   "execution_count": 6,
   "id": "b83523a4-eb31-4780-8240-0af0343dd03a",
   "metadata": {},
   "outputs": [
    {
     "name": "stderr",
     "output_type": "stream",
     "text": [
      "C:\\Users\\Kshitij\\AppData\\Local\\Temp\\ipykernel_12120\\3132196492.py:1: FutureWarning: A value is trying to be set on a copy of a DataFrame or Series through chained assignment using an inplace method.\n",
      "The behavior will change in pandas 3.0. This inplace method will never work because the intermediate object on which we are setting values always behaves as a copy.\n",
      "\n",
      "For example, when doing 'df[col].method(value, inplace=True)', try using 'df.method({col: value}, inplace=True)' or df[col] = df[col].method(value) instead, to perform the operation inplace on the original object.\n",
      "\n",
      "\n",
      "  data.workclass.replace({'Others':'Notlisted'},inplace=True)\n"
     ]
    }
   ],
   "source": [
    "data.workclass.replace({'Others':'Notlisted'},inplace=True)"
   ]
  },
  {
   "cell_type": "code",
   "execution_count": 7,
   "id": "3ce2c83b-afe3-40be-acdc-c948adfdcbf9",
   "metadata": {},
   "outputs": [
    {
     "name": "stderr",
     "output_type": "stream",
     "text": [
      "C:\\Users\\Kshitij\\AppData\\Local\\Temp\\ipykernel_12120\\2426378524.py:1: FutureWarning: A value is trying to be set on a copy of a DataFrame or Series through chained assignment using an inplace method.\n",
      "The behavior will change in pandas 3.0. This inplace method will never work because the intermediate object on which we are setting values always behaves as a copy.\n",
      "\n",
      "For example, when doing 'df[col].method(value, inplace=True)', try using 'df.method({col: value}, inplace=True)' or df[col] = df[col].method(value) instead, to perform the operation inplace on the original object.\n",
      "\n",
      "\n",
      "  data.occupation.replace({'?':'Others'},inplace=True)\n"
     ]
    }
   ],
   "source": [
    "data.occupation.replace({'?':'Others'},inplace=True)"
   ]
  },
  {
   "cell_type": "code",
   "execution_count": 8,
   "id": "26821520-0a78-4446-8347-b77bf2b6ea00",
   "metadata": {},
   "outputs": [
    {
     "data": {
      "image/png": "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",
      "text/plain": [
       "<Figure size 640x480 with 1 Axes>"
      ]
     },
     "metadata": {},
     "output_type": "display_data"
    }
   ],
   "source": [
    "import matplotlib.pyplot as plt\n",
    "plt.boxplot(data['age'])\n",
    "plt.show()"
   ]
  },
  {
   "cell_type": "code",
   "execution_count": 9,
   "id": "9b9b5d54-1032-4c30-9ac9-749bd633bae7",
   "metadata": {},
   "outputs": [
    {
     "name": "stdout",
     "output_type": "stream",
     "text": [
      "education\n",
      "HS-grad         15784\n",
      "Some-college    10878\n",
      "Bachelors        8025\n",
      "Masters          2657\n",
      "Assoc-voc        2061\n",
      "11th             1812\n",
      "Assoc-acdm       1601\n",
      "10th             1389\n",
      "7th-8th           955\n",
      "Prof-school       834\n",
      "9th               756\n",
      "12th              657\n",
      "Doctorate         594\n",
      "5th-6th           509\n",
      "1st-4th           247\n",
      "Preschool          83\n",
      "Name: count, dtype: int64\n",
      "occupation\n",
      "Prof-specialty       6172\n",
      "Craft-repair         6112\n",
      "Exec-managerial      6086\n",
      "Adm-clerical         5611\n",
      "Sales                5504\n",
      "Other-service        4923\n",
      "Machine-op-inspct    3022\n",
      "Others               2809\n",
      "Transport-moving     2355\n",
      "Handlers-cleaners    2072\n",
      "Farming-fishing      1490\n",
      "Tech-support         1446\n",
      "Protective-serv       983\n",
      "Priv-house-serv       242\n",
      "Armed-Forces           15\n",
      "Name: count, dtype: int64\n"
     ]
    }
   ],
   "source": [
    "print(data.education.value_counts())\n",
    "print(data.occupation.value_counts())"
   ]
  },
  {
   "cell_type": "code",
   "execution_count": 10,
   "id": "96285a39-3fac-4ea0-b767-bac3f64cd746",
   "metadata": {},
   "outputs": [],
   "source": [
    "data = data[(data['age'] >= 17) & (data['age'] <= 75)]\n",
    "data=data[data['education']!='Preschool']\n",
    "data=data[data['education']!='5th-6th']\n",
    "data=data[data['education']!='1st-4th']\n",
    "data=data[data['occupation']!='Armed-Forces']\n",
    "data=data[data['workclass']!='Without-pay']\n",
    "data=data[data['workclass']!='Never-worked']"
   ]
  },
  {
   "cell_type": "code",
   "execution_count": 11,
   "id": "48cf127c-94ed-4a2c-938a-153875324398",
   "metadata": {},
   "outputs": [
    {
     "data": {
      "image/png": "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",
      "text/plain": [
       "<Figure size 640x480 with 1 Axes>"
      ]
     },
     "metadata": {},
     "output_type": "display_data"
    }
   ],
   "source": [
    "plt.boxplot(data['age'])\n",
    "plt.show()"
   ]
  },
  {
   "cell_type": "code",
   "execution_count": 12,
   "id": "6dd02480-390a-4dab-922d-273e2e2490db",
   "metadata": {},
   "outputs": [],
   "source": [
    "X=data.drop(columns=['income'])\n",
    "Y=data['income']"
   ]
  },
  {
   "cell_type": "code",
   "execution_count": 13,
   "id": "fece9e44-524a-4e49-9ce8-934f56ba43d3",
   "metadata": {},
   "outputs": [],
   "source": [
    "from sklearn.compose import ColumnTransformer\n",
    "from sklearn.preprocessing import OneHotEncoder"
   ]
  },
  {
   "cell_type": "code",
   "execution_count": 14,
   "id": "c4a1ec4c-9a46-486f-a778-6e85549f8920",
   "metadata": {},
   "outputs": [],
   "source": [
    "encoder=OneHotEncoder()\n",
    "X_numeric=encoder.fit_transform(X)"
   ]
  },
  {
   "cell_type": "code",
   "execution_count": 15,
   "id": "04ac7087-8b3d-48e6-8478-b22847cf49bb",
   "metadata": {},
   "outputs": [],
   "source": [
    "scaler=StandardScaler(with_mean=False)\n",
    "\n",
    "X_scaled = scaler.fit_transform(X_numeric)"
   ]
  },
  {
   "cell_type": "code",
   "execution_count": 16,
   "id": "8cc4a9fa-9cc8-498d-9c5d-94d8eb7f9114",
   "metadata": {},
   "outputs": [],
   "source": [
    "pca = PCA(n_components=13)\n",
    "X_pca = pca.fit_transform(X_scaled)"
   ]
  },
  {
   "cell_type": "code",
   "execution_count": 17,
   "id": "93e72b77-e191-452b-a704-1c177776e67d",
   "metadata": {},
   "outputs": [
    {
     "data": {
      "text/plain": [
       "(47604, 13)"
      ]
     },
     "execution_count": 17,
     "metadata": {},
     "output_type": "execute_result"
    }
   ],
   "source": [
    "X_pca.shape\n"
   ]
  },
  {
   "cell_type": "code",
   "execution_count": 18,
   "id": "8df3d523-a91a-422c-bf82-a557ce7978e1",
   "metadata": {},
   "outputs": [
    {
     "data": {
      "text/plain": [
       "array([[-2.89738615,  2.63221167, -1.63945706, ..., -0.17396457,\n",
       "        -0.57380649, -2.7404131 ],\n",
       "       [ 2.67050267,  2.68471536,  0.99528997, ..., -0.2195931 ,\n",
       "         0.00942798, -0.08126889],\n",
       "       [ 2.19368602,  0.16123053,  0.26809498, ...,  0.4898602 ,\n",
       "         0.31654273,  1.43304395],\n",
       "       ...,\n",
       "       [-2.35380493,  0.11405156,  3.58187501, ..., -0.09415212,\n",
       "        -0.28422962, -0.75800688],\n",
       "       [-2.49868223,  2.4650197 , -0.76948896, ..., -0.02999637,\n",
       "         0.14230554,  0.13793738],\n",
       "       [ 1.61370968, -1.34328073,  1.99903033, ...,  0.00543026,\n",
       "         1.0801968 , -0.14305993]])"
      ]
     },
     "execution_count": 18,
     "metadata": {},
     "output_type": "execute_result"
    }
   ],
   "source": [
    "X_pca"
   ]
  },
  {
   "cell_type": "code",
   "execution_count": 19,
   "id": "794dec62-1c5b-4e12-a9c8-f03835bf372e",
   "metadata": {},
   "outputs": [],
   "source": [
    "from sklearn.model_selection import train_test_split\n",
    "xtrain,xtest,ytrain,ytest=train_test_split(X_pca,Y,test_size=0.2, random_state=42,stratify=Y)"
   ]
  },
  {
   "cell_type": "code",
   "execution_count": 20,
   "id": "0852f172-7d41-4c86-8d77-d74a2c9cd470",
   "metadata": {},
   "outputs": [],
   "source": [
    "models={'KNN':KNeighborsClassifier(),'MLP':MLPClassifier(solver='adam',hidden_layer_sizes=(8,2),random_state=42,max_iter=2000),'LogisticRegression':LogisticRegression(max_iter=1500),'SVM':SVC(),'XGBoost':XGBClassifier(n_estimators=200, learning_rate=0.05),'Random_Forest':RandomForestClassifier(n_estimators=100, random_state=0)}\n",
    "results={}"
   ]
  },
  {
   "cell_type": "code",
   "execution_count": 21,
   "id": "16914a13-2b92-4e27-9e3e-c885954d62f8",
   "metadata": {},
   "outputs": [
    {
     "name": "stdout",
     "output_type": "stream",
     "text": [
      "KNN Accuracy score: 0.8283\n",
      "MLP Accuracy score: 0.8385\n",
      "LogisticRegression Accuracy score: 0.8320\n",
      "SVM Accuracy score: 0.8381\n",
      "XGBoost Accuracy score: 0.8426\n",
      "Random_Forest Accuracy score: 0.8404\n"
     ]
    }
   ],
   "source": [
    "from sklearn.preprocessing import LabelEncoder\n",
    "for name, model in models.items():\n",
    "    if name!='XGBoost':\n",
    "       model.fit(xtrain, ytrain)\n",
    "       pred = model.predict(xtest)\n",
    "       accuracy = accuracy_score(ytest, pred)\n",
    "       results[name] = accuracy\n",
    "       print(f\"{name} Accuracy score: {accuracy:.4f}\")\n",
    "    else:\n",
    "        ytrain1=ytrain.copy()\n",
    "        ytest1=ytest.copy()\n",
    "        le = LabelEncoder()\n",
    "        ytrain_enc = le.fit_transform(ytrain1)\n",
    "        ytest_enc = le.transform(ytest1)\n",
    "        model.fit(xtrain, ytrain_enc)\n",
    "        pred = model.predict(xtest)\n",
    "        accuracy = accuracy_score(ytest_enc, pred)\n",
    "        results[name] = accuracy\n",
    "        print(f\"{name} Accuracy score: {accuracy:.4f}\")\n",
    "        "
   ]
  },
  {
   "cell_type": "code",
   "execution_count": 22,
   "id": "71810f5b-e56e-4ef8-bed1-45f6a5e699f2",
   "metadata": {},
   "outputs": [
    {
     "data": {
      "image/png": "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",
      "text/plain": [
       "<Figure size 1000x600 with 1 Axes>"
      ]
     },
     "metadata": {},
     "output_type": "display_data"
    }
   ],
   "source": [
    "import matplotlib.pyplot as plt\n",
    "model_names = list(results.keys())\n",
    "accuracies = list(results.values())\n",
    "plt.figure(figsize=(10, 6))\n",
    "plt.bar(model_names, accuracies, color='skyblue')\n",
    "plt.ylabel('Accuracy Score')\n",
    "plt.xlabel('Model Name')\n",
    "plt.title('Model Accuracy Comparison')\n",
    "plt.ylim(0, 1)\n",
    "plt.xticks(rotation=45)\n",
    "plt.grid(axis='y', linestyle='--', alpha=0.7)\n",
    "plt.tight_layout()\n",
    "plt.show()"
   ]
  },
  {
   "cell_type": "code",
   "execution_count": 23,
   "id": "b73a65b4-8bc9-461b-afaf-992f1ac603ff",
   "metadata": {},
   "outputs": [
    {
     "name": "stdout",
     "output_type": "stream",
     "text": [
      "Best model: XGBoost with accuracy: 0.8426\n"
     ]
    }
   ],
   "source": [
    "best_model = max(results, key=results.get)\n",
    "best_accuracy = results[best_model]\n",
    "\n",
    "print(f\"Best model: {best_model} with accuracy: {best_accuracy:.4f}\")\n"
   ]
  },
  {
   "cell_type": "code",
   "execution_count": 24,
   "id": "ec003d50-7a5e-413a-b06f-0fa4ee32782a",
   "metadata": {},
   "outputs": [],
   "source": [
    "Best_model=XGBClassifier(n_estimators=200, learning_rate=0.05)"
   ]
  },
  {
   "cell_type": "code",
   "execution_count": 25,
   "id": "8698ee62-8a9e-4710-a6e8-d49a8dd8e23e",
   "metadata": {},
   "outputs": [],
   "source": [
    "import pickle\n",
    "\n",
    "with open(\"best_model.pkl\", \"wb\") as f:\n",
    "    pickle.dump(best_model, f)\n"
   ]
  },
  {
   "cell_type": "code",
   "execution_count": 26,
   "id": "5dcd91e1-2230-4ad0-8c75-4a53bcd8202d",
   "metadata": {},
   "outputs": [
    {
     "data": {
      "text/html": [
       "<a href='best_model.pkl' target='_blank'>best_model.pkl</a><br>"
      ],
      "text/plain": [
       "C:\\Users\\Kshitij\\best_model.pkl"
      ]
     },
     "execution_count": 26,
     "metadata": {},
     "output_type": "execute_result"
    }
   ],
   "source": [
    "from IPython.display import FileLink\n",
    "\n",
    "FileLink('best_model.pkl')  # Click this link to download the file\n"
   ]
  },
  {
   "cell_type": "code",
   "execution_count": 28,
   "id": "8110b384-68ca-45b9-aefe-c97342c2269d",
   "metadata": {},
   "outputs": [],
   "source": [
    "categorical_cols = [cname for cname in X.columns if\n",
    "                    X[cname].nunique() < 10 and \n",
    "                    X[cname].dtype == \"object\"]\n",
    "numerical_cols = [cname for cname in X.columns if \n",
    "                X[cname].dtype in ['int64', 'float64']]"
   ]
  },
  {
   "cell_type": "code",
   "execution_count": 29,
   "id": "5c1de12d-a9e0-4415-a426-ff760f14146c",
   "metadata": {},
   "outputs": [],
   "source": [
    "import joblib"
   ]
  },
  {
   "cell_type": "code",
   "execution_count": 45,
   "id": "254ab4d0-8eb6-4647-ad03-d590a9b75690",
   "metadata": {},
   "outputs": [],
   "source": [
    "preprocessor = ColumnTransformer(\n",
    "    transformers=[\n",
    "        ('num', StandardScaler(), numerical_cols),\n",
    "        ('cat', OneHotEncoder(handle_unknown='ignore'), categorical_cols)\n",
    "    ]\n",
    ")\n",
    "\n",
    "# Define PCA\n",
    "pca = PCA(n_components=13)  # Change this as per your explained variance or optimal number\n",
    "\n",
    "# Define model\n",
    "model = XGBClassifier(n_estimators=200, learning_rate=0.05)\n",
    "\n",
    "# Define final pipeline\n",
    "pipeline = Pipeline(steps=[\n",
    "    ('preprocessor', preprocessor),\n",
    "    ('pca', pca),\n",
    "    ('classifier', model)\n",
    "])"
   ]
  },
  {
   "cell_type": "code",
   "execution_count": 48,
   "id": "cdc1eeb0-3ad4-40bd-910b-ccd90e244782",
   "metadata": {},
   "outputs": [],
   "source": [
    "from sklearn.preprocessing import LabelEncoder\n",
    "\n",
    "label_encoder = LabelEncoder()\n",
    "y_train_encoded = label_encoder.fit_transform(y_train)\n",
    "y_test_encoded = label_encoder.transform(y_test)\n"
   ]
  },
  {
   "cell_type": "code",
   "execution_count": 50,
   "id": "ae96b5ee-b59b-405b-a2f9-235ba7ebbf9c",
   "metadata": {},
   "outputs": [
    {
     "data": {
      "text/html": [
       "<style>#sk-container-id-1 {\n",
       "  /* Definition of color scheme common for light and dark mode */\n",
       "  --sklearn-color-text: black;\n",
       "  --sklearn-color-line: gray;\n",
       "  /* Definition of color scheme for unfitted estimators */\n",
       "  --sklearn-color-unfitted-level-0: #fff5e6;\n",
       "  --sklearn-color-unfitted-level-1: #f6e4d2;\n",
       "  --sklearn-color-unfitted-level-2: #ffe0b3;\n",
       "  --sklearn-color-unfitted-level-3: chocolate;\n",
       "  /* Definition of color scheme for fitted estimators */\n",
       "  --sklearn-color-fitted-level-0: #f0f8ff;\n",
       "  --sklearn-color-fitted-level-1: #d4ebff;\n",
       "  --sklearn-color-fitted-level-2: #b3dbfd;\n",
       "  --sklearn-color-fitted-level-3: cornflowerblue;\n",
       "\n",
       "  /* Specific color for light theme */\n",
       "  --sklearn-color-text-on-default-background: var(--sg-text-color, var(--theme-code-foreground, var(--jp-content-font-color1, black)));\n",
       "  --sklearn-color-background: var(--sg-background-color, var(--theme-background, var(--jp-layout-color0, white)));\n",
       "  --sklearn-color-border-box: var(--sg-text-color, var(--theme-code-foreground, var(--jp-content-font-color1, black)));\n",
       "  --sklearn-color-icon: #696969;\n",
       "\n",
       "  @media (prefers-color-scheme: dark) {\n",
       "    /* Redefinition of color scheme for dark theme */\n",
       "    --sklearn-color-text-on-default-background: var(--sg-text-color, var(--theme-code-foreground, var(--jp-content-font-color1, white)));\n",
       "    --sklearn-color-background: var(--sg-background-color, var(--theme-background, var(--jp-layout-color0, #111)));\n",
       "    --sklearn-color-border-box: var(--sg-text-color, var(--theme-code-foreground, var(--jp-content-font-color1, white)));\n",
       "    --sklearn-color-icon: #878787;\n",
       "  }\n",
       "}\n",
       "\n",
       "#sk-container-id-1 {\n",
       "  color: var(--sklearn-color-text);\n",
       "}\n",
       "\n",
       "#sk-container-id-1 pre {\n",
       "  padding: 0;\n",
       "}\n",
       "\n",
       "#sk-container-id-1 input.sk-hidden--visually {\n",
       "  border: 0;\n",
       "  clip: rect(1px 1px 1px 1px);\n",
       "  clip: rect(1px, 1px, 1px, 1px);\n",
       "  height: 1px;\n",
       "  margin: -1px;\n",
       "  overflow: hidden;\n",
       "  padding: 0;\n",
       "  position: absolute;\n",
       "  width: 1px;\n",
       "}\n",
       "\n",
       "#sk-container-id-1 div.sk-dashed-wrapped {\n",
       "  border: 1px dashed var(--sklearn-color-line);\n",
       "  margin: 0 0.4em 0.5em 0.4em;\n",
       "  box-sizing: border-box;\n",
       "  padding-bottom: 0.4em;\n",
       "  background-color: var(--sklearn-color-background);\n",
       "}\n",
       "\n",
       "#sk-container-id-1 div.sk-container {\n",
       "  /* jupyter's `normalize.less` sets `[hidden] { display: none; }`\n",
       "     but bootstrap.min.css set `[hidden] { display: none !important; }`\n",
       "     so we also need the `!important` here to be able to override the\n",
       "     default hidden behavior on the sphinx rendered scikit-learn.org.\n",
       "     See: https://github.com/scikit-learn/scikit-learn/issues/21755 */\n",
       "  display: inline-block !important;\n",
       "  position: relative;\n",
       "}\n",
       "\n",
       "#sk-container-id-1 div.sk-text-repr-fallback {\n",
       "  display: none;\n",
       "}\n",
       "\n",
       "div.sk-parallel-item,\n",
       "div.sk-serial,\n",
       "div.sk-item {\n",
       "  /* draw centered vertical line to link estimators */\n",
       "  background-image: linear-gradient(var(--sklearn-color-text-on-default-background), var(--sklearn-color-text-on-default-background));\n",
       "  background-size: 2px 100%;\n",
       "  background-repeat: no-repeat;\n",
       "  background-position: center center;\n",
       "}\n",
       "\n",
       "/* Parallel-specific style estimator block */\n",
       "\n",
       "#sk-container-id-1 div.sk-parallel-item::after {\n",
       "  content: \"\";\n",
       "  width: 100%;\n",
       "  border-bottom: 2px solid var(--sklearn-color-text-on-default-background);\n",
       "  flex-grow: 1;\n",
       "}\n",
       "\n",
       "#sk-container-id-1 div.sk-parallel {\n",
       "  display: flex;\n",
       "  align-items: stretch;\n",
       "  justify-content: center;\n",
       "  background-color: var(--sklearn-color-background);\n",
       "  position: relative;\n",
       "}\n",
       "\n",
       "#sk-container-id-1 div.sk-parallel-item {\n",
       "  display: flex;\n",
       "  flex-direction: column;\n",
       "}\n",
       "\n",
       "#sk-container-id-1 div.sk-parallel-item:first-child::after {\n",
       "  align-self: flex-end;\n",
       "  width: 50%;\n",
       "}\n",
       "\n",
       "#sk-container-id-1 div.sk-parallel-item:last-child::after {\n",
       "  align-self: flex-start;\n",
       "  width: 50%;\n",
       "}\n",
       "\n",
       "#sk-container-id-1 div.sk-parallel-item:only-child::after {\n",
       "  width: 0;\n",
       "}\n",
       "\n",
       "/* Serial-specific style estimator block */\n",
       "\n",
       "#sk-container-id-1 div.sk-serial {\n",
       "  display: flex;\n",
       "  flex-direction: column;\n",
       "  align-items: center;\n",
       "  background-color: var(--sklearn-color-background);\n",
       "  padding-right: 1em;\n",
       "  padding-left: 1em;\n",
       "}\n",
       "\n",
       "\n",
       "/* Toggleable style: style used for estimator/Pipeline/ColumnTransformer box that is\n",
       "clickable and can be expanded/collapsed.\n",
       "- Pipeline and ColumnTransformer use this feature and define the default style\n",
       "- Estimators will overwrite some part of the style using the `sk-estimator` class\n",
       "*/\n",
       "\n",
       "/* Pipeline and ColumnTransformer style (default) */\n",
       "\n",
       "#sk-container-id-1 div.sk-toggleable {\n",
       "  /* Default theme specific background. It is overwritten whether we have a\n",
       "  specific estimator or a Pipeline/ColumnTransformer */\n",
       "  background-color: var(--sklearn-color-background);\n",
       "}\n",
       "\n",
       "/* Toggleable label */\n",
       "#sk-container-id-1 label.sk-toggleable__label {\n",
       "  cursor: pointer;\n",
       "  display: block;\n",
       "  width: 100%;\n",
       "  margin-bottom: 0;\n",
       "  padding: 0.5em;\n",
       "  box-sizing: border-box;\n",
       "  text-align: center;\n",
       "}\n",
       "\n",
       "#sk-container-id-1 label.sk-toggleable__label-arrow:before {\n",
       "  /* Arrow on the left of the label */\n",
       "  content: \"▸\";\n",
       "  float: left;\n",
       "  margin-right: 0.25em;\n",
       "  color: var(--sklearn-color-icon);\n",
       "}\n",
       "\n",
       "#sk-container-id-1 label.sk-toggleable__label-arrow:hover:before {\n",
       "  color: var(--sklearn-color-text);\n",
       "}\n",
       "\n",
       "/* Toggleable content - dropdown */\n",
       "\n",
       "#sk-container-id-1 div.sk-toggleable__content {\n",
       "  max-height: 0;\n",
       "  max-width: 0;\n",
       "  overflow: hidden;\n",
       "  text-align: left;\n",
       "  /* unfitted */\n",
       "  background-color: var(--sklearn-color-unfitted-level-0);\n",
       "}\n",
       "\n",
       "#sk-container-id-1 div.sk-toggleable__content.fitted {\n",
       "  /* fitted */\n",
       "  background-color: var(--sklearn-color-fitted-level-0);\n",
       "}\n",
       "\n",
       "#sk-container-id-1 div.sk-toggleable__content pre {\n",
       "  margin: 0.2em;\n",
       "  border-radius: 0.25em;\n",
       "  color: var(--sklearn-color-text);\n",
       "  /* unfitted */\n",
       "  background-color: var(--sklearn-color-unfitted-level-0);\n",
       "}\n",
       "\n",
       "#sk-container-id-1 div.sk-toggleable__content.fitted pre {\n",
       "  /* unfitted */\n",
       "  background-color: var(--sklearn-color-fitted-level-0);\n",
       "}\n",
       "\n",
       "#sk-container-id-1 input.sk-toggleable__control:checked~div.sk-toggleable__content {\n",
       "  /* Expand drop-down */\n",
       "  max-height: 200px;\n",
       "  max-width: 100%;\n",
       "  overflow: auto;\n",
       "}\n",
       "\n",
       "#sk-container-id-1 input.sk-toggleable__control:checked~label.sk-toggleable__label-arrow:before {\n",
       "  content: \"▾\";\n",
       "}\n",
       "\n",
       "/* Pipeline/ColumnTransformer-specific style */\n",
       "\n",
       "#sk-container-id-1 div.sk-label input.sk-toggleable__control:checked~label.sk-toggleable__label {\n",
       "  color: var(--sklearn-color-text);\n",
       "  background-color: var(--sklearn-color-unfitted-level-2);\n",
       "}\n",
       "\n",
       "#sk-container-id-1 div.sk-label.fitted input.sk-toggleable__control:checked~label.sk-toggleable__label {\n",
       "  background-color: var(--sklearn-color-fitted-level-2);\n",
       "}\n",
       "\n",
       "/* Estimator-specific style */\n",
       "\n",
       "/* Colorize estimator box */\n",
       "#sk-container-id-1 div.sk-estimator input.sk-toggleable__control:checked~label.sk-toggleable__label {\n",
       "  /* unfitted */\n",
       "  background-color: var(--sklearn-color-unfitted-level-2);\n",
       "}\n",
       "\n",
       "#sk-container-id-1 div.sk-estimator.fitted input.sk-toggleable__control:checked~label.sk-toggleable__label {\n",
       "  /* fitted */\n",
       "  background-color: var(--sklearn-color-fitted-level-2);\n",
       "}\n",
       "\n",
       "#sk-container-id-1 div.sk-label label.sk-toggleable__label,\n",
       "#sk-container-id-1 div.sk-label label {\n",
       "  /* The background is the default theme color */\n",
       "  color: var(--sklearn-color-text-on-default-background);\n",
       "}\n",
       "\n",
       "/* On hover, darken the color of the background */\n",
       "#sk-container-id-1 div.sk-label:hover label.sk-toggleable__label {\n",
       "  color: var(--sklearn-color-text);\n",
       "  background-color: var(--sklearn-color-unfitted-level-2);\n",
       "}\n",
       "\n",
       "/* Label box, darken color on hover, fitted */\n",
       "#sk-container-id-1 div.sk-label.fitted:hover label.sk-toggleable__label.fitted {\n",
       "  color: var(--sklearn-color-text);\n",
       "  background-color: var(--sklearn-color-fitted-level-2);\n",
       "}\n",
       "\n",
       "/* Estimator label */\n",
       "\n",
       "#sk-container-id-1 div.sk-label label {\n",
       "  font-family: monospace;\n",
       "  font-weight: bold;\n",
       "  display: inline-block;\n",
       "  line-height: 1.2em;\n",
       "}\n",
       "\n",
       "#sk-container-id-1 div.sk-label-container {\n",
       "  text-align: center;\n",
       "}\n",
       "\n",
       "/* Estimator-specific */\n",
       "#sk-container-id-1 div.sk-estimator {\n",
       "  font-family: monospace;\n",
       "  border: 1px dotted var(--sklearn-color-border-box);\n",
       "  border-radius: 0.25em;\n",
       "  box-sizing: border-box;\n",
       "  margin-bottom: 0.5em;\n",
       "  /* unfitted */\n",
       "  background-color: var(--sklearn-color-unfitted-level-0);\n",
       "}\n",
       "\n",
       "#sk-container-id-1 div.sk-estimator.fitted {\n",
       "  /* fitted */\n",
       "  background-color: var(--sklearn-color-fitted-level-0);\n",
       "}\n",
       "\n",
       "/* on hover */\n",
       "#sk-container-id-1 div.sk-estimator:hover {\n",
       "  /* unfitted */\n",
       "  background-color: var(--sklearn-color-unfitted-level-2);\n",
       "}\n",
       "\n",
       "#sk-container-id-1 div.sk-estimator.fitted:hover {\n",
       "  /* fitted */\n",
       "  background-color: var(--sklearn-color-fitted-level-2);\n",
       "}\n",
       "\n",
       "/* Specification for estimator info (e.g. \"i\" and \"?\") */\n",
       "\n",
       "/* Common style for \"i\" and \"?\" */\n",
       "\n",
       ".sk-estimator-doc-link,\n",
       "a:link.sk-estimator-doc-link,\n",
       "a:visited.sk-estimator-doc-link {\n",
       "  float: right;\n",
       "  font-size: smaller;\n",
       "  line-height: 1em;\n",
       "  font-family: monospace;\n",
       "  background-color: var(--sklearn-color-background);\n",
       "  border-radius: 1em;\n",
       "  height: 1em;\n",
       "  width: 1em;\n",
       "  text-decoration: none !important;\n",
       "  margin-left: 1ex;\n",
       "  /* unfitted */\n",
       "  border: var(--sklearn-color-unfitted-level-1) 1pt solid;\n",
       "  color: var(--sklearn-color-unfitted-level-1);\n",
       "}\n",
       "\n",
       ".sk-estimator-doc-link.fitted,\n",
       "a:link.sk-estimator-doc-link.fitted,\n",
       "a:visited.sk-estimator-doc-link.fitted {\n",
       "  /* fitted */\n",
       "  border: var(--sklearn-color-fitted-level-1) 1pt solid;\n",
       "  color: var(--sklearn-color-fitted-level-1);\n",
       "}\n",
       "\n",
       "/* On hover */\n",
       "div.sk-estimator:hover .sk-estimator-doc-link:hover,\n",
       ".sk-estimator-doc-link:hover,\n",
       "div.sk-label-container:hover .sk-estimator-doc-link:hover,\n",
       ".sk-estimator-doc-link:hover {\n",
       "  /* unfitted */\n",
       "  background-color: var(--sklearn-color-unfitted-level-3);\n",
       "  color: var(--sklearn-color-background);\n",
       "  text-decoration: none;\n",
       "}\n",
       "\n",
       "div.sk-estimator.fitted:hover .sk-estimator-doc-link.fitted:hover,\n",
       ".sk-estimator-doc-link.fitted:hover,\n",
       "div.sk-label-container:hover .sk-estimator-doc-link.fitted:hover,\n",
       ".sk-estimator-doc-link.fitted:hover {\n",
       "  /* fitted */\n",
       "  background-color: var(--sklearn-color-fitted-level-3);\n",
       "  color: var(--sklearn-color-background);\n",
       "  text-decoration: none;\n",
       "}\n",
       "\n",
       "/* Span, style for the box shown on hovering the info icon */\n",
       ".sk-estimator-doc-link span {\n",
       "  display: none;\n",
       "  z-index: 9999;\n",
       "  position: relative;\n",
       "  font-weight: normal;\n",
       "  right: .2ex;\n",
       "  padding: .5ex;\n",
       "  margin: .5ex;\n",
       "  width: min-content;\n",
       "  min-width: 20ex;\n",
       "  max-width: 50ex;\n",
       "  color: var(--sklearn-color-text);\n",
       "  box-shadow: 2pt 2pt 4pt #999;\n",
       "  /* unfitted */\n",
       "  background: var(--sklearn-color-unfitted-level-0);\n",
       "  border: .5pt solid var(--sklearn-color-unfitted-level-3);\n",
       "}\n",
       "\n",
       ".sk-estimator-doc-link.fitted span {\n",
       "  /* fitted */\n",
       "  background: var(--sklearn-color-fitted-level-0);\n",
       "  border: var(--sklearn-color-fitted-level-3);\n",
       "}\n",
       "\n",
       ".sk-estimator-doc-link:hover span {\n",
       "  display: block;\n",
       "}\n",
       "\n",
       "/* \"?\"-specific style due to the `<a>` HTML tag */\n",
       "\n",
       "#sk-container-id-1 a.estimator_doc_link {\n",
       "  float: right;\n",
       "  font-size: 1rem;\n",
       "  line-height: 1em;\n",
       "  font-family: monospace;\n",
       "  background-color: var(--sklearn-color-background);\n",
       "  border-radius: 1rem;\n",
       "  height: 1rem;\n",
       "  width: 1rem;\n",
       "  text-decoration: none;\n",
       "  /* unfitted */\n",
       "  color: var(--sklearn-color-unfitted-level-1);\n",
       "  border: var(--sklearn-color-unfitted-level-1) 1pt solid;\n",
       "}\n",
       "\n",
       "#sk-container-id-1 a.estimator_doc_link.fitted {\n",
       "  /* fitted */\n",
       "  border: var(--sklearn-color-fitted-level-1) 1pt solid;\n",
       "  color: var(--sklearn-color-fitted-level-1);\n",
       "}\n",
       "\n",
       "/* On hover */\n",
       "#sk-container-id-1 a.estimator_doc_link:hover {\n",
       "  /* unfitted */\n",
       "  background-color: var(--sklearn-color-unfitted-level-3);\n",
       "  color: var(--sklearn-color-background);\n",
       "  text-decoration: none;\n",
       "}\n",
       "\n",
       "#sk-container-id-1 a.estimator_doc_link.fitted:hover {\n",
       "  /* fitted */\n",
       "  background-color: var(--sklearn-color-fitted-level-3);\n",
       "}\n",
       "</style><div id=\"sk-container-id-1\" class=\"sk-top-container\"><div class=\"sk-text-repr-fallback\"><pre>Pipeline(steps=[(&#x27;preprocessor&#x27;,\n",
       "                 ColumnTransformer(transformers=[(&#x27;num&#x27;, StandardScaler(),\n",
       "                                                  [&#x27;age&#x27;, &#x27;fnlwgt&#x27;,\n",
       "                                                   &#x27;educational-num&#x27;,\n",
       "                                                   &#x27;capital-gain&#x27;,\n",
       "                                                   &#x27;capital-loss&#x27;,\n",
       "                                                   &#x27;hours-per-week&#x27;]),\n",
       "                                                 (&#x27;cat&#x27;,\n",
       "                                                  OneHotEncoder(handle_unknown=&#x27;ignore&#x27;),\n",
       "                                                  [&#x27;workclass&#x27;,\n",
       "                                                   &#x27;marital-status&#x27;,\n",
       "                                                   &#x27;relationship&#x27;, &#x27;race&#x27;,\n",
       "                                                   &#x27;gender&#x27;])])),\n",
       "                (&#x27;pca&#x27;, PCA(n_components=13)),\n",
       "                (&#x27;classifier&#x27;,\n",
       "                 XGBClassifier(base_score...\n",
       "                               feature_types=None, feature_weights=None,\n",
       "                               gamma=None, grow_policy=None,\n",
       "                               importance_type=None,\n",
       "                               interaction_constraints=None, learning_rate=0.05,\n",
       "                               max_bin=None, max_cat_threshold=None,\n",
       "                               max_cat_to_onehot=None, max_delta_step=None,\n",
       "                               max_depth=None, max_leaves=None,\n",
       "                               min_child_weight=None, missing=nan,\n",
       "                               monotone_constraints=None, multi_strategy=None,\n",
       "                               n_estimators=200, n_jobs=None,\n",
       "                               num_parallel_tree=None, ...))])</pre><b>In a Jupyter environment, please rerun this cell to show the HTML representation or trust the notebook. <br />On GitHub, the HTML representation is unable to render, please try loading this page with nbviewer.org.</b></div><div class=\"sk-container\" hidden><div class=\"sk-item sk-dashed-wrapped\"><div class=\"sk-label-container\"><div class=\"sk-label fitted sk-toggleable\"><input class=\"sk-toggleable__control sk-hidden--visually\" id=\"sk-estimator-id-1\" type=\"checkbox\" ><label for=\"sk-estimator-id-1\" class=\"sk-toggleable__label fitted sk-toggleable__label-arrow fitted\">&nbsp;&nbsp;Pipeline<a class=\"sk-estimator-doc-link fitted\" rel=\"noreferrer\" target=\"_blank\" href=\"https://scikit-learn.org/1.5/modules/generated/sklearn.pipeline.Pipeline.html\">?<span>Documentation for Pipeline</span></a><span class=\"sk-estimator-doc-link fitted\">i<span>Fitted</span></span></label><div class=\"sk-toggleable__content fitted\"><pre>Pipeline(steps=[(&#x27;preprocessor&#x27;,\n",
       "                 ColumnTransformer(transformers=[(&#x27;num&#x27;, StandardScaler(),\n",
       "                                                  [&#x27;age&#x27;, &#x27;fnlwgt&#x27;,\n",
       "                                                   &#x27;educational-num&#x27;,\n",
       "                                                   &#x27;capital-gain&#x27;,\n",
       "                                                   &#x27;capital-loss&#x27;,\n",
       "                                                   &#x27;hours-per-week&#x27;]),\n",
       "                                                 (&#x27;cat&#x27;,\n",
       "                                                  OneHotEncoder(handle_unknown=&#x27;ignore&#x27;),\n",
       "                                                  [&#x27;workclass&#x27;,\n",
       "                                                   &#x27;marital-status&#x27;,\n",
       "                                                   &#x27;relationship&#x27;, &#x27;race&#x27;,\n",
       "                                                   &#x27;gender&#x27;])])),\n",
       "                (&#x27;pca&#x27;, PCA(n_components=13)),\n",
       "                (&#x27;classifier&#x27;,\n",
       "                 XGBClassifier(base_score...\n",
       "                               feature_types=None, feature_weights=None,\n",
       "                               gamma=None, grow_policy=None,\n",
       "                               importance_type=None,\n",
       "                               interaction_constraints=None, learning_rate=0.05,\n",
       "                               max_bin=None, max_cat_threshold=None,\n",
       "                               max_cat_to_onehot=None, max_delta_step=None,\n",
       "                               max_depth=None, max_leaves=None,\n",
       "                               min_child_weight=None, missing=nan,\n",
       "                               monotone_constraints=None, multi_strategy=None,\n",
       "                               n_estimators=200, n_jobs=None,\n",
       "                               num_parallel_tree=None, ...))])</pre></div> </div></div><div class=\"sk-serial\"><div class=\"sk-item sk-dashed-wrapped\"><div class=\"sk-label-container\"><div class=\"sk-label fitted sk-toggleable\"><input class=\"sk-toggleable__control sk-hidden--visually\" id=\"sk-estimator-id-2\" type=\"checkbox\" ><label for=\"sk-estimator-id-2\" class=\"sk-toggleable__label fitted sk-toggleable__label-arrow fitted\">&nbsp;preprocessor: ColumnTransformer<a class=\"sk-estimator-doc-link fitted\" rel=\"noreferrer\" target=\"_blank\" href=\"https://scikit-learn.org/1.5/modules/generated/sklearn.compose.ColumnTransformer.html\">?<span>Documentation for preprocessor: ColumnTransformer</span></a></label><div class=\"sk-toggleable__content fitted\"><pre>ColumnTransformer(transformers=[(&#x27;num&#x27;, StandardScaler(),\n",
       "                                 [&#x27;age&#x27;, &#x27;fnlwgt&#x27;, &#x27;educational-num&#x27;,\n",
       "                                  &#x27;capital-gain&#x27;, &#x27;capital-loss&#x27;,\n",
       "                                  &#x27;hours-per-week&#x27;]),\n",
       "                                (&#x27;cat&#x27;, OneHotEncoder(handle_unknown=&#x27;ignore&#x27;),\n",
       "                                 [&#x27;workclass&#x27;, &#x27;marital-status&#x27;, &#x27;relationship&#x27;,\n",
       "                                  &#x27;race&#x27;, &#x27;gender&#x27;])])</pre></div> </div></div><div class=\"sk-parallel\"><div class=\"sk-parallel-item\"><div class=\"sk-item\"><div class=\"sk-label-container\"><div class=\"sk-label fitted sk-toggleable\"><input class=\"sk-toggleable__control sk-hidden--visually\" id=\"sk-estimator-id-3\" type=\"checkbox\" ><label for=\"sk-estimator-id-3\" class=\"sk-toggleable__label fitted sk-toggleable__label-arrow fitted\">num</label><div class=\"sk-toggleable__content fitted\"><pre>[&#x27;age&#x27;, &#x27;fnlwgt&#x27;, &#x27;educational-num&#x27;, &#x27;capital-gain&#x27;, &#x27;capital-loss&#x27;, &#x27;hours-per-week&#x27;]</pre></div> </div></div><div class=\"sk-serial\"><div class=\"sk-item\"><div class=\"sk-estimator fitted sk-toggleable\"><input class=\"sk-toggleable__control sk-hidden--visually\" id=\"sk-estimator-id-4\" type=\"checkbox\" ><label for=\"sk-estimator-id-4\" class=\"sk-toggleable__label fitted sk-toggleable__label-arrow fitted\">&nbsp;StandardScaler<a class=\"sk-estimator-doc-link fitted\" rel=\"noreferrer\" target=\"_blank\" href=\"https://scikit-learn.org/1.5/modules/generated/sklearn.preprocessing.StandardScaler.html\">?<span>Documentation for StandardScaler</span></a></label><div class=\"sk-toggleable__content fitted\"><pre>StandardScaler()</pre></div> </div></div></div></div></div><div class=\"sk-parallel-item\"><div class=\"sk-item\"><div class=\"sk-label-container\"><div class=\"sk-label fitted sk-toggleable\"><input class=\"sk-toggleable__control sk-hidden--visually\" id=\"sk-estimator-id-5\" type=\"checkbox\" ><label for=\"sk-estimator-id-5\" class=\"sk-toggleable__label fitted sk-toggleable__label-arrow fitted\">cat</label><div class=\"sk-toggleable__content fitted\"><pre>[&#x27;workclass&#x27;, &#x27;marital-status&#x27;, &#x27;relationship&#x27;, &#x27;race&#x27;, &#x27;gender&#x27;]</pre></div> </div></div><div class=\"sk-serial\"><div class=\"sk-item\"><div class=\"sk-estimator fitted sk-toggleable\"><input class=\"sk-toggleable__control sk-hidden--visually\" id=\"sk-estimator-id-6\" type=\"checkbox\" ><label for=\"sk-estimator-id-6\" class=\"sk-toggleable__label fitted sk-toggleable__label-arrow fitted\">&nbsp;OneHotEncoder<a class=\"sk-estimator-doc-link fitted\" rel=\"noreferrer\" target=\"_blank\" href=\"https://scikit-learn.org/1.5/modules/generated/sklearn.preprocessing.OneHotEncoder.html\">?<span>Documentation for OneHotEncoder</span></a></label><div class=\"sk-toggleable__content fitted\"><pre>OneHotEncoder(handle_unknown=&#x27;ignore&#x27;)</pre></div> </div></div></div></div></div></div></div><div class=\"sk-item\"><div class=\"sk-estimator fitted sk-toggleable\"><input class=\"sk-toggleable__control sk-hidden--visually\" id=\"sk-estimator-id-7\" type=\"checkbox\" ><label for=\"sk-estimator-id-7\" class=\"sk-toggleable__label fitted sk-toggleable__label-arrow fitted\">&nbsp;PCA<a class=\"sk-estimator-doc-link fitted\" rel=\"noreferrer\" target=\"_blank\" href=\"https://scikit-learn.org/1.5/modules/generated/sklearn.decomposition.PCA.html\">?<span>Documentation for PCA</span></a></label><div class=\"sk-toggleable__content fitted\"><pre>PCA(n_components=13)</pre></div> </div></div><div class=\"sk-item\"><div class=\"sk-estimator fitted sk-toggleable\"><input class=\"sk-toggleable__control sk-hidden--visually\" id=\"sk-estimator-id-8\" type=\"checkbox\" ><label for=\"sk-estimator-id-8\" class=\"sk-toggleable__label fitted sk-toggleable__label-arrow fitted\">&nbsp;XGBClassifier<a class=\"sk-estimator-doc-link fitted\" rel=\"noreferrer\" target=\"_blank\" href=\"https://xgboost.readthedocs.io/en/release_3.0.0/python/python_api.html#xgboost.XGBClassifier\">?<span>Documentation for XGBClassifier</span></a></label><div class=\"sk-toggleable__content fitted\"><pre>XGBClassifier(base_score=None, booster=None, callbacks=None,\n",
       "              colsample_bylevel=None, colsample_bynode=None,\n",
       "              colsample_bytree=None, device=None, early_stopping_rounds=None,\n",
       "              enable_categorical=False, eval_metric=None, feature_types=None,\n",
       "              feature_weights=None, gamma=None, grow_policy=None,\n",
       "              importance_type=None, interaction_constraints=None,\n",
       "              learning_rate=0.05, max_bin=None, max_cat_threshold=None,\n",
       "              max_cat_to_onehot=None, max_delta_step=None, max_depth=None,\n",
       "              max_leaves=None, min_child_weight=None, missing=nan,\n",
       "              monotone_constraints=None, multi_strategy=None, n_estimators=200,\n",
       "              n_jobs=None, num_parallel_tree=None, ...)</pre></div> </div></div></div></div></div></div>"
      ],
      "text/plain": [
       "Pipeline(steps=[('preprocessor',\n",
       "                 ColumnTransformer(transformers=[('num', StandardScaler(),\n",
       "                                                  ['age', 'fnlwgt',\n",
       "                                                   'educational-num',\n",
       "                                                   'capital-gain',\n",
       "                                                   'capital-loss',\n",
       "                                                   'hours-per-week']),\n",
       "                                                 ('cat',\n",
       "                                                  OneHotEncoder(handle_unknown='ignore'),\n",
       "                                                  ['workclass',\n",
       "                                                   'marital-status',\n",
       "                                                   'relationship', 'race',\n",
       "                                                   'gender'])])),\n",
       "                ('pca', PCA(n_components=13)),\n",
       "                ('classifier',\n",
       "                 XGBClassifier(base_score...\n",
       "                               feature_types=None, feature_weights=None,\n",
       "                               gamma=None, grow_policy=None,\n",
       "                               importance_type=None,\n",
       "                               interaction_constraints=None, learning_rate=0.05,\n",
       "                               max_bin=None, max_cat_threshold=None,\n",
       "                               max_cat_to_onehot=None, max_delta_step=None,\n",
       "                               max_depth=None, max_leaves=None,\n",
       "                               min_child_weight=None, missing=nan,\n",
       "                               monotone_constraints=None, multi_strategy=None,\n",
       "                               n_estimators=200, n_jobs=None,\n",
       "                               num_parallel_tree=None, ...))])"
      ]
     },
     "execution_count": 50,
     "metadata": {},
     "output_type": "execute_result"
    }
   ],
   "source": [
    "pipeline.fit(x_train, y_train_encoded)"
   ]
  },
  {
   "cell_type": "code",
   "execution_count": 46,
   "id": "f8c44641-6713-4406-be4b-a3b2e3ed8dfa",
   "metadata": {},
   "outputs": [],
   "source": [
    "x_train,x_test,y_train,y_test=train_test_split(X,Y,test_size=0.2, random_state=42,stratify=Y)"
   ]
  },
  {
   "cell_type": "code",
   "execution_count": 55,
   "id": "1874d012-5453-46b0-9a84-abd4240c403f",
   "metadata": {},
   "outputs": [],
   "source": [
    "y_pred = pipeline.predict(x_test)\n",
    "y_pred_labels = label_encoder.inverse_transform(y_pred)\n",
    "y_true_labels = label_encoder.inverse_transform(y_test_encoded)"
   ]
  },
  {
   "cell_type": "code",
   "execution_count": 56,
   "id": "a5a5cdc7-f9a8-43e0-898c-19e5311eb7ad",
   "metadata": {},
   "outputs": [
    {
     "name": "stdout",
     "output_type": "stream",
     "text": [
      "              precision    recall  f1-score   support\n",
      "\n",
      "       <=50K       0.88      0.93      0.90      7204\n",
      "        >50K       0.73      0.59      0.65      2317\n",
      "\n",
      "    accuracy                           0.85      9521\n",
      "   macro avg       0.80      0.76      0.78      9521\n",
      "weighted avg       0.84      0.85      0.84      9521\n",
      "\n",
      "[[6688  516]\n",
      " [ 954 1363]]\n"
     ]
    }
   ],
   "source": [
    "from sklearn.metrics import classification_report, confusion_matrix\n",
    "print(classification_report(y_true_labels, y_pred_labels))\n",
    "print(confusion_matrix(y_true_labels, y_pred_labels))"
   ]
  },
  {
   "cell_type": "code",
   "execution_count": 57,
   "id": "f54f7299-7a7c-4826-979d-e8da4afb7749",
   "metadata": {},
   "outputs": [
    {
     "data": {
      "text/plain": [
       "['label_encoder.pkl']"
      ]
     },
     "execution_count": 57,
     "metadata": {},
     "output_type": "execute_result"
    }
   ],
   "source": [
    "import joblib\n",
    "\n",
    "# Save the pipeline\n",
    "joblib.dump(pipeline, 'model_pipeline.pkl')\n",
    "\n",
    "# Save the label encoder separately\n",
    "joblib.dump(label_encoder, 'label_encoder.pkl')\n"
   ]
  },
  {
   "cell_type": "code",
   "execution_count": 61,
   "id": "268f82ba-f77c-4515-a888-194f4cc31aa9",
   "metadata": {},
   "outputs": [
    {
     "data": {
      "text/html": [
       "<a href='model_pipeline.pkl' target='_blank'>model_pipeline.pkl</a><br>"
      ],
      "text/plain": [
       "C:\\Users\\Kshitij\\model_pipeline.pkl"
      ]
     },
     "execution_count": 61,
     "metadata": {},
     "output_type": "execute_result"
    }
   ],
   "source": [
    "from IPython.display import FileLink\n",
    "\n",
    "# Create clickable download links\n",
    "FileLink(r'model_pipeline.pkl')\n"
   ]
  },
  {
   "cell_type": "code",
   "execution_count": 62,
   "id": "02ebdf47-2f01-4879-8cd6-d283d8dfb119",
   "metadata": {},
   "outputs": [
    {
     "data": {
      "text/html": [
       "<a href='label_encoder.pkl' target='_blank'>label_encoder.pkl</a><br>"
      ],
      "text/plain": [
       "C:\\Users\\Kshitij\\label_encoder.pkl"
      ]
     },
     "execution_count": 62,
     "metadata": {},
     "output_type": "execute_result"
    }
   ],
   "source": [
    "FileLink(r'label_encoder.pkl')\n"
   ]
  },
  {
   "cell_type": "code",
   "execution_count": 63,
   "id": "0ee8faf1-621b-4195-9e17-c89c6eba400b",
   "metadata": {},
   "outputs": [
    {
     "data": {
      "text/plain": [
       "['age',\n",
       " 'fnlwgt',\n",
       " 'educational-num',\n",
       " 'capital-gain',\n",
       " 'capital-loss',\n",
       " 'hours-per-week']"
      ]
     },
     "execution_count": 63,
     "metadata": {},
     "output_type": "execute_result"
    }
   ],
   "source": [
    "numerical_cols"
   ]
  },
  {
   "cell_type": "code",
   "execution_count": 64,
   "id": "03dd5eff-8978-43a1-81c0-dd26d5fd5ff2",
   "metadata": {},
   "outputs": [
    {
     "data": {
      "text/plain": [
       "['workclass', 'marital-status', 'relationship', 'race', 'gender']"
      ]
     },
     "execution_count": 64,
     "metadata": {},
     "output_type": "execute_result"
    }
   ],
   "source": [
    "categorical_cols"
   ]
  },
  {
   "cell_type": "code",
   "execution_count": null,
   "id": "83353902-8ae9-41de-85e8-a4ba6bd58109",
   "metadata": {},
   "outputs": [],
   "source": []
  }
 ],
 "metadata": {
  "kernelspec": {
   "display_name": "Python 3 (ipykernel)",
   "language": "python",
   "name": "python3"
  },
  "language_info": {
   "codemirror_mode": {
    "name": "ipython",
    "version": 3
   },
   "file_extension": ".py",
   "mimetype": "text/x-python",
   "name": "python",
   "nbconvert_exporter": "python",
   "pygments_lexer": "ipython3",
   "version": "3.12.1"
  }
 },
 "nbformat": 4,
 "nbformat_minor": 5
}

 "nbformat": 4,
 "nbformat_minor": 5
}
